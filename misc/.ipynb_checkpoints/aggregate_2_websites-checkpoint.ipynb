{
 "cells": [
  {
   "cell_type": "code",
   "execution_count": 30,
   "metadata": {},
   "outputs": [],
   "source": [
    "import pandas as pd"
   ]
  },
  {
   "cell_type": "code",
   "execution_count": 35,
   "metadata": {},
   "outputs": [
    {
     "data": {
      "text/plain": [
       "68"
      ]
     },
     "execution_count": 35,
     "metadata": {},
     "output_type": "execute_result"
    }
   ],
   "source": [
    "filename = \"MIP_all_2017_scraped_texts.csv\"\n",
    "data = pd.read_csv(filename, encoding=\"utf-8\", sep=\"\\t\", error_bad_lines=False, chunksize=25000)\n",
    "outputfile = open(filename.split(\".\")[0] + \"_aggregated.csv\", \"w\", encoding='utf-8')\n",
    "outputfile.write(\"ID\" + \"\\t\" + \"dl_rank\" + \"\\t\" + \"dl_slot\" + \"\\t\" + \"error\" + \"\\t\" + \"redirect\" + \"\\t\" + \"start_page\" + \"\\t\" + \"text\" + \"\\t\" + \"timestamp\\n\")"
   ]
  },
  {
   "cell_type": "code",
   "execution_count": 36,
   "metadata": {},
   "outputs": [],
   "source": [
    "c=0\n",
    "for chunk in data:\n",
    "    IDs = chunk[\"ID\"].values.tolist()\n",
    "    errors = chunk[\"error\"].values.tolist()\n",
    "    redirects = chunk[\"redirect\"].values.tolist()\n",
    "    start_pages = chunk[\"start_page\"].values.tolist()\n",
    "    timestamps = chunk[\"timestamp\"].values.tolist()\n",
    "    texts = chunk[\"text\"].values.tolist()\n",
    "    dl_slots = chunk[\"dl_slot\"].values.tolist()\n",
    "    dl_ranks = chunk[\"dl_rank\"].values.tolist()\n",
    "    output = \"\"\n",
    "    for i, text in enumerate(texts):\n",
    "        if str(text) == \"nan\":\n",
    "            text = \"\"\n",
    "        if c==0:\n",
    "            dl_slot = dl_slots[i]\n",
    "            website_text = text\n",
    "            dl_rank = dl_ranks[i]\n",
    "            ID = IDs[i]\n",
    "            error = errors[i]\n",
    "            start_page = start_pages[i]\n",
    "            timestamp = timestamps[i]\n",
    "            redirect = redirects[i]\n",
    "            c+=1\n",
    "        if dl_slots[i] != dl_slot:\n",
    "            output = output + \"\\t\".join([str(x) for x in [ID, dl_rank, dl_slot, error, redirect, start_page, website_text, timestamp]]) + \"\\n\"\n",
    "            dl_slot = dl_slots[i]\n",
    "            website_text = text\n",
    "            dl_ = dl_ranks[i]\n",
    "            ID = IDs[i]\n",
    "            error = errors[i]\n",
    "            start_page = start_pages[i]\n",
    "            timestamp = timestamps[i]\n",
    "            redirect = redirects[i]\n",
    "        website_text = website_text + text\n",
    "        dl_rank = dl_ranks[i]\n",
    "    outputfile.write(output)\n",
    "    \n",
    "outputfile.close()"
   ]
  },
  {
   "cell_type": "code",
   "execution_count": null,
   "metadata": {},
   "outputs": [],
   "source": []
  }
 ],
 "metadata": {
  "kernelspec": {
   "display_name": "Python 3",
   "language": "python",
   "name": "python3"
  },
  "language_info": {
   "codemirror_mode": {
    "name": "ipython",
    "version": 3
   },
   "file_extension": ".py",
   "mimetype": "text/x-python",
   "name": "python",
   "nbconvert_exporter": "python",
   "pygments_lexer": "ipython3",
   "version": "3.6.6"
  }
 },
 "nbformat": 4,
 "nbformat_minor": 2
}
